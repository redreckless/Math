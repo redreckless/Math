{
 "cells": [
  {
   "cell_type": "code",
   "execution_count": 50,
   "metadata": {
    "collapsed": true
   },
   "outputs": [],
   "source": [
    "import pandas as pd\n",
    "import numpy as np"
   ]
  },
  {
   "cell_type": "code",
   "execution_count": 2,
   "metadata": {
    "collapsed": true
   },
   "outputs": [],
   "source": [
    "data = pd.read_csv('table25_without_old_data.csv', sep='Ь', engine='python')"
   ]
  },
  {
   "cell_type": "code",
   "execution_count": 51,
   "metadata": {
    "collapsed": true
   },
   "outputs": [],
   "source": [
    "def GetBoolArrayOfCPVs(AllCPVsArray, NeededCPVs):\n",
    "    \"\"\"Return Array of Booleans where True - needed CPV in row, False - needed CPV not in row\"\"\"\n",
    "    return np.in1d(AllCPVsArray, NeededCPVs)"
   ]
  },
  {
   "cell_type": "code",
   "execution_count": 52,
   "metadata": {
    "collapsed": true
   },
   "outputs": [],
   "source": [
    "    #GetDictionary()\n",
    "    \n",
    "    #Time on different lvls without index cleaning\n",
    "    #deep = 2 => ~9 sec\n",
    "    #deep = 3 => ~ 24 sec\n",
    "    #deep = 4 => ~1 min 10 sec\n",
    "    \n",
    "    #time on different lvls with index cleaning\n",
    "    #deep = 2 => ~ 13 sec\n",
    "    #deep = 3 => ~ 27 - 28 sec\n",
    "    #deep = 4 => ~1 min 15 sec\n",
    "    "
   ]
  },
  {
   "cell_type": "code",
   "execution_count": 53,
   "metadata": {
    "collapsed": false
   },
   "outputs": [],
   "source": [
    "def GetDictionary(df, deep):\n",
    "    \"\"\"Return dictionary with next Signature: {key : DataFrame wich CPV matches key}\"\"\"\n",
    "\n",
    "    #Get array with first [deep] elements of CPV\n",
    "    cut_function = lambda x : x[:deep]\n",
    "    CPVs = np.array([cut_function(element) for element in df['cpv']])\n",
    "    \n",
    "    #Get All Uniqe CPVs in current lvl\n",
    "    uniqe_in_deep_lvl = set(CPVs)\n",
    "    dict_ = {}\n",
    "    \n",
    "    #Adding Keys as uniqe element of CPV, and values - DataFrame where first [deep] elements matches key\n",
    "    for element in uniqe_in_deep_lvl:\n",
    "        dict_[element] = df[GetBoolArrayOfCPVs(CPVs, element)].reset_index().drop('index', axis=1, inplace=True)\n",
    "    \n",
    "    return dict_"
   ]
  },
  {
   "cell_type": "code",
   "execution_count": 54,
   "metadata": {
    "collapsed": false
   },
   "outputs": [],
   "source": [
    "dict_ = GetDictionary(data, 2)"
   ]
  }
 ],
 "metadata": {
  "kernelspec": {
   "display_name": "Python 3",
   "language": "python",
   "name": "python3"
  },
  "language_info": {
   "codemirror_mode": {
    "name": "ipython",
    "version": 3
   },
   "file_extension": ".py",
   "mimetype": "text/x-python",
   "name": "python",
   "nbconvert_exporter": "python",
   "pygments_lexer": "ipython3",
   "version": "3.5.1"
  }
 },
 "nbformat": 4,
 "nbformat_minor": 0
}
