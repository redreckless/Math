{
 "cells": [
  {
   "cell_type": "markdown",
   "metadata": {},
   "source": [
    "## Import libraries"
   ]
  },
  {
   "cell_type": "code",
   "execution_count": null,
   "metadata": {},
   "outputs": [],
   "source": [
    "import numpy as np\n",
    "import pandas as pd\n",
    "import matplotlib.pyplot as plt\n",
    "from sklearn.datasets import make_blobs\n",
    "from sklearn.cluster import KMeans, DBSCAN\n",
    "from sklearn.metrics import silhouette_samples, silhouette_score\n",
    "import matplotlib.cm as cm\n",
    "from scipy.spatial import distance_matrix\n",
    "\n",
    "%matplotlib inline"
   ]
  },
  {
   "cell_type": "code",
   "execution_count": null,
   "metadata": {},
   "outputs": [],
   "source": [
    "# from jupyterthemes.stylefx import set_nb_theme\n",
    "# set_nb_theme('oceans16') # default\n",
    "# set_nb_theme('monokai') # monokai\n",
    "# set_nb_theme('grade3') # light"
   ]
  },
  {
   "cell_type": "markdown",
   "metadata": {},
   "source": [
    "### Generate random data"
   ]
  },
  {
   "cell_type": "code",
   "execution_count": null,
   "metadata": {},
   "outputs": [],
   "source": [
    "# Generate data\n",
    "X, y = make_blobs(n_samples=1600,\n",
    "                  n_features=2,\n",
    "                  centers=4,\n",
    "                  cluster_std=1.2,\n",
    "                  center_box=(-10.0, 10.0),\n",
    "                  shuffle=True,\n",
    "                  random_state=2)  # For reproducibility"
   ]
  },
  {
   "cell_type": "markdown",
   "metadata": {},
   "source": [
    "## Visualize data\n",
    "### Visualization helper"
   ]
  },
  {
   "cell_type": "code",
   "execution_count": null,
   "metadata": {},
   "outputs": [],
   "source": [
    "def plot_clusters(X, y, centers=None, ax=None):\n",
    "    colors = cm.nipy_spectral(y.astype(float) / np.unique(y).shape[0])\n",
    "    if ax is not None:\n",
    "        ax.scatter(X[:, 0], X[:, 1], marker='.', lw=0, s=30, alpha=0.7,\n",
    "                    c=colors, edgecolor='k')\n",
    "        # Draw white circles at cluster centers\n",
    "        if centers is not None:\n",
    "            ax.scatter(centers[:, 0], centers[:, 1], marker='o',\n",
    "                        c=\"white\", alpha=1, s=200, edgecolor='k')\n",
    "            for i, c in enumerate(centers):\n",
    "                ax.scatter(c[0], c[1], marker='$%d$' % i, alpha=1,\n",
    "                            s=50, edgecolor='k')\n",
    "    else:\n",
    "        plt.scatter(X[:,0], X[:,1], c=colors, s=10)\n",
    "        if centers is not None:\n",
    "            plt.scatter(centers[:,0], centers[:,1], c='red', marker='*')"
   ]
  },
  {
   "cell_type": "markdown",
   "metadata": {},
   "source": [
    "### Visualize"
   ]
  },
  {
   "cell_type": "code",
   "execution_count": null,
   "metadata": {
    "scrolled": true
   },
   "outputs": [],
   "source": [
    "# Plot clusters\n"
   ]
  },
  {
   "cell_type": "markdown",
   "metadata": {},
   "source": [
    "# Estimating k with silhouette plot\n",
    "### Helpers"
   ]
  },
  {
   "cell_type": "code",
   "execution_count": null,
   "metadata": {},
   "outputs": [],
   "source": [
    "def configure_subplots(n_samples, n_clusters, silhouette_avg, cluster_labels):\n",
    "    print(\"For n_clusters =\", n_clusters,\n",
    "          \"The average silhouette_score is :\", silhouette_avg)\n",
    "    \n",
    "    # Create a subplot with 1 row and 2 columns\n",
    "    fig, (ax1, ax2) = plt.subplots(1, 2)\n",
    "    fig.set_size_inches(18, 7)\n",
    "\n",
    "    # The 1st subplot is the silhouette plot\n",
    "    # The silhouette coefficient can range from -1, 1 but in this example all\n",
    "    # lie within [-0.1, 1]\n",
    "    ax1.set_xlim([-0.1, 1])\n",
    "    # The (n_clusters+1)*10 is for inserting blank space between silhouette\n",
    "    # plots of individual clusters, to demarcate them clearly.\n",
    "    ax1.set_ylim([0, n_samples + (n_clusters + 1) * 10])\n",
    "    \n",
    "    # The vertical line for average silhouette score of all the values\n",
    "    ax1.axvline(x=silhouette_avg, color=\"red\", linestyle=\"--\")\n",
    "\n",
    "    ax1.set_yticks([])  # Clear the yaxis labels / ticks\n",
    "    ax1.set_xticks([-0.1, 0, 0.2, 0.4, 0.6, 0.8, 1])\n",
    "    ax1.set_title(\"The silhouette plot for the various clusters.\")\n",
    "    ax1.set_xlabel(\"The silhouette coefficient values\")\n",
    "    ax1.set_ylabel(\"Cluster label\")\n",
    "    \n",
    "    ax2.set_yticks([])\n",
    "    ax2.set_xticks([])\n",
    "    ax2.set_title(\"The visualization of the clustered data.\")\n",
    "    ax2.set_xlabel(\"Feature space for the 1st feature\")\n",
    "    ax2.set_ylabel(\"Feature space for the 2nd feature\")\n",
    "\n",
    "    plt.suptitle((\"Silhouette analysis for KMeans clustering on sample data \"\n",
    "                  \"with n_clusters = %d\" % n_clusters),\n",
    "                 fontsize=14, fontweight='bold')\n",
    "\n",
    "    return ax1, ax2"
   ]
  },
  {
   "cell_type": "code",
   "execution_count": null,
   "metadata": {},
   "outputs": [],
   "source": [
    "def plot_silhouette(ax, i, cluster_labels, silhouette_scores, n_clusters):\n",
    "    # Aggregate the silhouette scores for samples belonging to\n",
    "    # cluster i, and sort them\n",
    "    ith_cluster_silhouette_values = \\\n",
    "        silhouette_scores[cluster_labels == i]\n",
    "\n",
    "    ith_cluster_silhouette_values.sort()\n",
    "\n",
    "    size_cluster_i = ith_cluster_silhouette_values.shape[0]\n",
    "    y_upper = y_lower + size_cluster_i\n",
    "    \n",
    "    color = cm.nipy_spectral(float(i) / n_clusters)\n",
    "    ax.fill_betweenx(np.arange(y_lower, y_upper),\n",
    "                      0, ith_cluster_silhouette_values,\n",
    "                      facecolor=color, edgecolor=color, alpha=0.7)\n",
    "\n",
    "    # Label the silhouette plots with their cluster numbers at the middle\n",
    "    ax.text(-0.05, y_lower + 0.5 * size_cluster_i, str(i))\n",
    "\n",
    "    # Compute the new y_lower for next plot\n",
    "    return y_upper + 10  # 10 for the 0 samples"
   ]
  },
  {
   "cell_type": "markdown",
   "metadata": {},
   "source": [
    "### Estimations"
   ]
  },
  {
   "cell_type": "code",
   "execution_count": null,
   "metadata": {},
   "outputs": [],
   "source": [
    "range_n_clusters = None\n",
    "\n",
    "for n_clusters in range_n_clusters:\n",
    "    # The silhouette_score gives the average value for all the samples.\n",
    "    # This gives a perspective into the density and separation of the formed\n",
    "    # clusters\n",
    "    # Get silhouette average\n",
    "    silhouette_avg = None\n",
    "    \n",
    "    # Configure subplots\n",
    "    ax1, ax2 = None\n",
    "    \n",
    "    # Initialize the clusterer with n_clusters value and a random generator\n",
    "    clusterer = None\n",
    "    # Prepare fit and predict for data\n",
    "    pred_cluster_labels = None\n",
    "\n",
    "    # Compute the silhouette scores for each sample\n",
    "    sample_silhouette_values = None\n",
    "\n",
    "    # Just a const to make graph look better\n",
    "    y_lower = 10\n",
    "    # Iterate over number of clusters\n",
    "        # Plot silhouette and update y_lower value\n",
    "        y_lower = None\n",
    "    \n",
    "    # Get cluster centroids\n",
    "    centers = None\n",
    "    # Plot clusters\n",
    "    \n",
    "# Show the graph"
   ]
  },
  {
   "cell_type": "markdown",
   "metadata": {},
   "source": [
    "# Estimating k with elbow plot\n",
    "### Helpers"
   ]
  },
  {
   "cell_type": "code",
   "execution_count": null,
   "metadata": {},
   "outputs": [],
   "source": [
    "def plot_elbow(range_n_clusters, distortions):\n",
    "    # Plot elbow graph\n",
    "    plt.plot(range_n_clusters, distortions, marker='o')\n",
    "    plt.xlabel('Number of clusters')\n",
    "    plt.ylabel('Distortion')\n",
    "    plt.show()"
   ]
  },
  {
   "cell_type": "markdown",
   "metadata": {},
   "source": [
    "### Estimations"
   ]
  },
  {
   "cell_type": "code",
   "execution_count": null,
   "metadata": {},
   "outputs": [],
   "source": [
    "range_n_clusters = None\n",
    "\n",
    "distortions = []\n",
    "\n",
    "# Run algorithm with different number of clusters\n",
    "for i in range_n_clusters:\n",
    "    # Initialize clustering algorithm\n",
    "    clusterer = None\n",
    "    # Train the algorithm on data\n",
    "    \n",
    "    # Get within-cluster SSE and append to list of distortions\n",
    "    \n",
    "# Plot the elbow graph\n"
   ]
  },
  {
   "cell_type": "markdown",
   "metadata": {},
   "source": [
    "# Estimating epsilon and number of neighbors for DBSCAN\n",
    "### Helpers"
   ]
  },
  {
   "cell_type": "code",
   "execution_count": null,
   "metadata": {},
   "outputs": [],
   "source": [
    "def find_min_nonzero_dist(data_full, x):\n",
    "    # Make every point the size of (1,2)\n",
    "    dist_vect = distance_matrix(data_full, x.reshape(1,2))\n",
    "    # Don't count if the distance is 0 - it may be the same point\n",
    "    nonzero_elems = dist_vect[np.nonzero(dist_vect)]   \n",
    "    return np.min(nonzero_elems)"
   ]
  },
  {
   "cell_type": "code",
   "execution_count": null,
   "metadata": {},
   "outputs": [],
   "source": [
    "def number_of_point_within_distance(data, dist):\n",
    "    # Find number of closest neighbors around every point of data, \n",
    "    # that falls into a sphere of radius = dist\n",
    "    result = np.array([])\n",
    "    for x in data:\n",
    "        dist_vect = distance_matrix(data, x.reshape(1, 2))\n",
    "        filtered_elems = dist_vect[dist_vect <= dist]\n",
    "        # -1 because the point has zero distance to itself, don't count it \n",
    "        count = filtered_elems.shape[0] - 1 \n",
    "        result = np.append(result, count) \n",
    "    return result"
   ]
  },
  {
   "cell_type": "markdown",
   "metadata": {},
   "source": [
    "### Estimations"
   ]
  },
  {
   "cell_type": "code",
   "execution_count": null,
   "metadata": {},
   "outputs": [],
   "source": [
    "# Find distances to the closest points \n",
    "\n",
    "# Visualize distribution of distances to the closest neighbors\n"
   ]
  },
  {
   "cell_type": "code",
   "execution_count": null,
   "metadata": {},
   "outputs": [],
   "source": [
    "# Most data lies under this threshold\n",
    "epsilon = None"
   ]
  },
  {
   "cell_type": "code",
   "execution_count": null,
   "metadata": {},
   "outputs": [],
   "source": [
    "# Find number of neighbors the lie within epsilon\n",
    "num_points = None"
   ]
  },
  {
   "cell_type": "code",
   "execution_count": null,
   "metadata": {},
   "outputs": [],
   "source": [
    "# Plot histogram of number of neighbors distribution\n",
    "\n",
    "# Update ticks\n",
    "\n",
    "# Show graph\n"
   ]
  },
  {
   "cell_type": "code",
   "execution_count": null,
   "metadata": {},
   "outputs": [],
   "source": [
    "# Select appropriate number of neighbors\n",
    "min_pts = None"
   ]
  },
  {
   "cell_type": "code",
   "execution_count": null,
   "metadata": {},
   "outputs": [],
   "source": [
    "# Create clustering model and get predictions\n",
    "dbscan = None\n",
    "# Fit and predict on data\n",
    "pred = None"
   ]
  },
  {
   "cell_type": "code",
   "execution_count": null,
   "metadata": {},
   "outputs": [],
   "source": [
    "# Show the result\n"
   ]
  },
  {
   "cell_type": "code",
   "execution_count": null,
   "metadata": {},
   "outputs": [],
   "source": []
  }
 ],
 "metadata": {
  "kernelspec": {
   "display_name": "Python 3",
   "language": "python",
   "name": "python3"
  },
  "language_info": {
   "codemirror_mode": {
    "name": "ipython",
    "version": 3
   },
   "file_extension": ".py",
   "mimetype": "text/x-python",
   "name": "python",
   "nbconvert_exporter": "python",
   "pygments_lexer": "ipython3",
   "version": "3.6.7"
  }
 },
 "nbformat": 4,
 "nbformat_minor": 2
}
