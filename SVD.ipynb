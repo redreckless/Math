{
 "cells": [
  {
   "cell_type": "code",
   "execution_count": 1,
   "metadata": {},
   "outputs": [],
   "source": [
    "import numpy as np"
   ]
  },
  {
   "cell_type": "code",
   "execution_count": 2,
   "metadata": {},
   "outputs": [],
   "source": [
    "np.set_printoptions(precision=5)"
   ]
  },
  {
   "cell_type": "code",
   "execution_count": 3,
   "metadata": {},
   "outputs": [],
   "source": [
    "def lin_svd(A, b):\n",
    "    U, S, V = np.linalg.svd(A)\n",
    "    print(\"U\\n\",U)\n",
    "    print(\"S\\n\", S)\n",
    "    print(\"V\\n\", V)\n",
    "    singular_values = S[abs(S)>10**(-4)]\n",
    "    print(\"singular_values: \", singular_values)\n",
    "    S[abs(S)<10**(-4)] = 0\n",
    "    rg = np.count_nonzero(S)\n",
    "    print('Ранг: ', rg)\n",
    "    cond = max(singular_values)/min(singular_values)\n",
    "    print('Число обусловленности: ',cond)\n",
    "    z = U.T@b\n",
    "    z[abs(z)<10**(-4)] = 0\n",
    "    print('z = ', z)\n",
    "    if rg == len(A):\n",
    "        print(\"Ранг системы равен размерности матрицы, поэтому системы совместны и имеют единственное решение: \")\n",
    "        y = z/S\n",
    "        x = V.T@y\n",
    "        print('Решение системы: ', x)\n",
    "        return x\n",
    "    z[abs(z)<10**(-4)] = 0\n",
    "    if (np.count_nonzero(z)==rg):\n",
    "        print(\"Система имеет бесконечное число решений\")\n",
    "        y = np.zeros(len(z))\n",
    "        y1 = z[z!=0]/singular_values\n",
    "        y[:len(y1)] = y1\n",
    "        x = V.T@y\n",
    "        print('Частичное решение: x = ', x)\n",
    "        print('Общее решение: x+C1*{1}+C2*{2}'.format(x, V[2], V[3]))\n",
    "        return x\n",
    "    if (np.count_nonzero(z)>rg):\n",
    "        print(\"Система несовместна, ищем псевдорешение: \")\n",
    "        y = np.zeros(len(z))\n",
    "        y1 = z[:len(singular_values)]/singular_values\n",
    "        y[:len(y1)] = y1\n",
    "        x = V.T@y\n",
    "        print('Псевдорешение: x= ', x)\n",
    "        print('Невязка: ', A@x-b)"
   ]
  },
  {
   "cell_type": "code",
   "execution_count": 4,
   "metadata": {},
   "outputs": [],
   "source": [
    "A = np.array([[2,7,3,1],\\\n",
    "              [1,3,5, -2],\\\n",
    "              [1, 5, -9, 8],\\\n",
    "              [5, 18, 4, 5]])\n",
    "b = np.array([5, 3, 1, 12])"
   ]
  },
  {
   "cell_type": "code",
   "execution_count": 5,
   "metadata": {},
   "outputs": [
    {
     "name": "stdout",
     "output_type": "stream",
     "text": [
      "U\n",
      " [[-0.34131 -0.18492  0.92157 -0.00557]\n",
      " [-0.13562 -0.4164  -0.13915 -0.88818]\n",
      " [-0.27576  0.87936  0.07202 -0.38144]\n",
      " [-0.8883  -0.13836 -0.3552   0.25615]]\n",
      "S\n",
      " [2.21372e+01 1.31509e+01 1.46656e-15 3.51364e-16]\n",
      "V\n",
      " [[-0.25005 -0.91087 -0.12528 -0.30346]\n",
      " [-0.04552 -0.04847 -0.84439  0.53159]\n",
      " [-0.84396  0.04446  0.3149   0.43197]\n",
      " [ 0.47237 -0.40741  0.41492  0.66237]]\n",
      "singular_values:  [22.13715 13.15091]\n",
      "Ранг:  2\n",
      "Число обусловленности:  1.6833175857827956\n",
      "z =  [-13.04872  -2.95479   0.        0.     ]\n",
      "Система имеет бесконечное число решений\n",
      "Частичное решение: x =  [0.15762 0.5478  0.26357 0.05943]\n",
      "Общее решение: x+C1*[-0.84396  0.04446  0.3149   0.43197]+C2*[ 0.47237 -0.40741  0.41492  0.66237]\n"
     ]
    },
    {
     "data": {
      "text/plain": [
       "array([0.15762, 0.5478 , 0.26357, 0.05943])"
      ]
     },
     "execution_count": 5,
     "metadata": {},
     "output_type": "execute_result"
    }
   ],
   "source": [
    "lin_svd(A,b)"
   ]
  },
  {
   "cell_type": "code",
   "execution_count": 6,
   "metadata": {},
   "outputs": [],
   "source": [
    "A = np.array([[4, -3, 2, -1],\\\n",
    "              [3, -2, 1, -3],\\\n",
    "              [2, -1, 0, -5],\\\n",
    "              [5, -3, 1, -8]])\n",
    "b = np.array([8,7,6,1])"
   ]
  },
  {
   "cell_type": "code",
   "execution_count": 7,
   "metadata": {},
   "outputs": [
    {
     "name": "stdout",
     "output_type": "stream",
     "text": [
      "U\n",
      " [[-0.33163  0.84472 -0.37091 -0.19722]\n",
      " [-0.36721  0.20402  0.88924 -0.18107]\n",
      " [-0.4028  -0.43668 -0.2235  -0.77273]\n",
      " [-0.77002 -0.23266 -0.14741  0.57551]]\n",
      "S\n",
      " [1.28630e+01 4.06718e+00 3.66503e-16 1.43612e-16]\n",
      "V\n",
      " [[-0.55071  0.34534 -0.13997  0.7469 ]\n",
      " [ 0.4805  -0.44442  0.40834  0.6363 ]\n",
      " [ 0.62203  0.77673 -0.03224  0.09347]\n",
      " [-0.28092  0.28271  0.90146 -0.16891]]\n",
      "singular_values:  [12.86305  4.06718]\n",
      "Ранг:  2\n",
      "Число обусловленности:  3.16264525915081\n",
      "z =  [-8.41035  5.33315  1.76897 -6.9061 ]\n",
      "Система несовместна, ищем псевдорешение: \n",
      "Псевдорешение: x=  [ 0.99014 -0.80855  0.62696  0.346  ]\n",
      "Невязка:  [-0.70588 -2.82353 -4.94118  4.23529]\n"
     ]
    }
   ],
   "source": [
    "lin_svd(A,b)"
   ]
  },
  {
   "cell_type": "markdown",
   "metadata": {},
   "source": [
    "**Выводы:** SVD - разложение может использоваться для решение систем СЛАУ, особенно в случае, когда система недоопределена или переопределена. В первом случае, система может иметь бесконечное множество решений, и SVD позволяет выписать решение в общем виде. Во втором случае, с помощью SVD можно найти нормальное псевдорешение, как минимум нормы невязки."
   ]
  }
 ],
 "metadata": {
  "kernelspec": {
   "display_name": "Python 3",
   "language": "python",
   "name": "python3"
  },
  "language_info": {
   "codemirror_mode": {
    "name": "ipython",
    "version": 3
   },
   "file_extension": ".py",
   "mimetype": "text/x-python",
   "name": "python",
   "nbconvert_exporter": "python",
   "pygments_lexer": "ipython3",
   "version": "3.6.5"
  }
 },
 "nbformat": 4,
 "nbformat_minor": 2
}
