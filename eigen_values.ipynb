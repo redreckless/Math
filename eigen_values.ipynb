{
 "cells": [
  {
   "cell_type": "markdown",
   "metadata": {},
   "source": [
    "## <center>Знаходження власних чисел та власних векторів матриць</center>"
   ]
  },
  {
   "cell_type": "markdown",
   "metadata": {},
   "source": [
    "### 1. Метод обертань Якобі для симетричних матриць"
   ]
  },
  {
   "cell_type": "markdown",
   "metadata": {},
   "source": [
    "<img src=\"jacobi.png\"  align=\"left\"/>, "
   ]
  },
  {
   "cell_type": "markdown",
   "metadata": {},
   "source": [
    "де **T** - матриця обертання Гівенса, яка занулює елемент максимальний за модулем елемент матриці **B**"
   ]
  },
  {
   "cell_type": "code",
   "execution_count": 172,
   "metadata": {
    "collapsed": true
   },
   "outputs": [],
   "source": [
    "import numpy as np\n",
    "from scipy import linalg\n",
    "np.set_printoptions(precision=4, suppress=True)"
   ]
  },
  {
   "cell_type": "code",
   "execution_count": 173,
   "metadata": {
    "collapsed": true
   },
   "outputs": [],
   "source": [
    "A = np.array([\\\n",
    "              [1.4,   1, 1.2],\\\n",
    "              [1,   2.1,   2],\\\n",
    "              [1.2,   2, 2.5],\\\n",
    "             ])"
   ]
  },
  {
   "cell_type": "code",
   "execution_count": 2,
   "metadata": {
    "collapsed": true
   },
   "outputs": [],
   "source": [
    "def jacobi_rotation(A, j, k, J):\n",
    "    r = (A[j, j] - A[k,k])/(2*A[j,k])\n",
    "    t = np.sign(r)/(np.abs(r) + (1+r**2)**0.5)\n",
    "    c = 1/((1+t**2)**0.5)\n",
    "    s = c*t\n",
    "    R = np.identity(len(A))\n",
    "    R[j,j] = c \n",
    "    R[j,k] = -s\n",
    "    R[k,j] = s\n",
    "    R[k,k] = c\n",
    "    A = np.matmul(np.matmul(R.T, A), R)\n",
    "    J = np.matmul(J, R)\n",
    "    return A, J"
   ]
  },
  {
   "cell_type": "code",
   "execution_count": 239,
   "metadata": {
    "collapsed": true
   },
   "outputs": [],
   "source": [
    "def jacobi_eigen(A, eps = 0.0001):\n",
    "    V = A.copy()\n",
    "    np.fill_diagonal(V,0)\n",
    "    J = np.identity(len(A))\n",
    "    \n",
    "    while np.linalg.norm(V, 'fro') > eps:\n",
    "        j,k = np.unravel_index(np.argmax(np.abs(V)),A.shape)\n",
    "        \n",
    "        print(\"Опорный элекмент: \", A[j,k])\n",
    "        print(\"След: \", np.trace(A))\n",
    "        print(\"Евклидова норма: \", np.linalg.norm(A,'fro'))\n",
    "        \n",
    "        if (np.abs(A[j,k])<eps):\n",
    "            break\n",
    "        A, J = jacobi_rotation(A,j,k,J)\n",
    "\n",
    "        print(\"\\n\")\n",
    "        V = A.copy()\n",
    "        np.fill_diagonal(V,0)\n",
    "        \n",
    "    j,k = np.unravel_index(np.argmax(np.abs(V)),A.shape)\n",
    "    print(\"Опорный элекмент: \", A[j,k])\n",
    "    print(\"След: \", np.trace(A))\n",
    "    print(\"Евклидова норма: \", np.linalg.norm(A,'fro'))\n",
    "    print(\"\\n\")\n",
    "    return A, J\n",
    "        "
   ]
  },
  {
   "cell_type": "code",
   "execution_count": 240,
   "metadata": {},
   "outputs": [
    {
     "name": "stdout",
     "output_type": "stream",
     "text": [
      "Опорный элекмент:  2.0\n",
      "След:  6.0\n",
      "Евклидова норма:  5.04975246918\n",
      "\n",
      "\n",
      "Опорный элекмент:  1.56074836102\n",
      "След:  6.0\n",
      "Евклидова норма:  5.04975246918\n",
      "\n",
      "\n",
      "Опорный элекмент:  -0.058464221439\n",
      "След:  6.0\n",
      "Евклидова норма:  5.04975246918\n",
      "\n",
      "\n",
      "Опорный элекмент:  -0.0252036052054\n",
      "След:  6.0\n",
      "Евклидова норма:  5.04975246918\n",
      "\n",
      "\n",
      "Опорный элекмент:  0.00335653638705\n",
      "След:  6.0\n",
      "Евклидова норма:  5.04975246918\n",
      "\n",
      "\n",
      "Опорный элекмент:  1.79739164645e-05\n",
      "След:  6.0\n",
      "Евклидова норма:  5.04975246918\n",
      "\n",
      "\n"
     ]
    }
   ],
   "source": [
    "D, Q = jacobi_eigen(A.copy(),0.0001)"
   ]
  },
  {
   "cell_type": "markdown",
   "metadata": {},
   "source": [
    "Матриця власних чисел:"
   ]
  },
  {
   "cell_type": "code",
   "execution_count": 188,
   "metadata": {},
   "outputs": [
    {
     "name": "stdout",
     "output_type": "stream",
     "text": [
      "[[ 0.729   0.     -0.    ]\n",
      " [ 0.      0.2821  0.    ]\n",
      " [ 0.      0.      4.9889]]\n"
     ]
    }
   ],
   "source": [
    "print(D)"
   ]
  },
  {
   "cell_type": "markdown",
   "metadata": {},
   "source": [
    "Ортогональна матриця власних векторів:"
   ]
  },
  {
   "cell_type": "code",
   "execution_count": 189,
   "metadata": {},
   "outputs": [
    {
     "data": {
      "text/plain": [
       "array([[ 0.9087,  0.1232,  0.3989],\n",
       "       [-0.3636,  0.7029,  0.6113],\n",
       "       [-0.2051, -0.7005,  0.6835]])"
      ]
     },
     "execution_count": 189,
     "metadata": {},
     "output_type": "execute_result"
    }
   ],
   "source": [
    "Q"
   ]
  },
  {
   "cell_type": "markdown",
   "metadata": {},
   "source": [
    "Перевіримо співвідношення ***QtQ=E*** та ***QDQt = A*** "
   ]
  },
  {
   "cell_type": "code",
   "execution_count": 192,
   "metadata": {},
   "outputs": [
    {
     "data": {
      "text/plain": [
       "array([[ 1., -0.,  0.],\n",
       "       [-0.,  1.,  0.],\n",
       "       [ 0.,  0.,  1.]])"
      ]
     },
     "execution_count": 192,
     "metadata": {},
     "output_type": "execute_result"
    }
   ],
   "source": [
    "Q.T.dot(Q)"
   ]
  },
  {
   "cell_type": "code",
   "execution_count": 193,
   "metadata": {},
   "outputs": [
    {
     "data": {
      "text/plain": [
       "array([[ 1.4,  1. ,  1.2],\n",
       "       [ 1. ,  2.1,  2. ],\n",
       "       [ 1.2,  2. ,  2.5]])"
      ]
     },
     "execution_count": 193,
     "metadata": {},
     "output_type": "execute_result"
    }
   ],
   "source": [
    "Q.dot(D).dot(Q.T)"
   ]
  },
  {
   "cell_type": "markdown",
   "metadata": {},
   "source": [
    "#### Порядок збіжності:"
   ]
  },
  {
   "cell_type": "code",
   "execution_count": 242,
   "metadata": {},
   "outputs": [
    {
     "name": "stdout",
     "output_type": "stream",
     "text": [
      "Опорный элекмент:  2.0\n",
      "След:  6.0\n",
      "Евклидова норма:  5.04975246918\n",
      "\n",
      "\n",
      "Опорный элекмент:  1.56074836102\n",
      "След:  6.0\n",
      "Евклидова норма:  5.04975246918\n",
      "\n",
      "\n",
      "Опорный элекмент:  -0.058464221439\n",
      "След:  6.0\n",
      "Евклидова норма:  5.04975246918\n",
      "\n",
      "\n",
      "Опорный элекмент:  -0.0252036052054\n",
      "След:  6.0\n",
      "Евклидова норма:  5.04975246918\n",
      "\n",
      "\n",
      "Опорный элекмент:  0.00335653638705\n",
      "След:  6.0\n",
      "Евклидова норма:  5.04975246918\n",
      "\n",
      "\n",
      "Опорный элекмент:  1.79739164645e-05\n",
      "След:  6.0\n",
      "Евклидова норма:  5.04975246918\n",
      "\n",
      "\n",
      "Опорный элекмент:  1.41624359591e-08\n",
      "След:  6.0\n",
      "Евклидова норма:  5.04975246918\n",
      "\n",
      "\n",
      "Опорный элекмент:  5.69588779613e-13\n",
      "След:  6.0\n",
      "Евклидова норма:  5.04975246918\n",
      "\n",
      "\n",
      "Опорный элекмент:  -4.36140778404e-16\n",
      "След:  6.0\n",
      "Евклидова норма:  5.04975246918\n",
      "\n",
      "\n"
     ]
    }
   ],
   "source": [
    "D, Q = jacobi_eigen(A.copy(),10**(-15))"
   ]
  },
  {
   "cell_type": "markdown",
   "metadata": {},
   "source": [
    "Очевидно, що порядок збіжності швидше лінійного"
   ]
  },
  {
   "cell_type": "markdown",
   "metadata": {},
   "source": [
    "### QR-алгоритм знаходження власних значень несиметричиних матриць"
   ]
  },
  {
   "cell_type": "markdown",
   "metadata": {},
   "source": [
    "<img src=\"qr1.png\"  align=\"left\"/>"
   ]
  },
  {
   "cell_type": "markdown",
   "metadata": {},
   "source": [
    "<img src=\"qr2.png\"  align=\"left\"/> "
   ]
  },
  {
   "cell_type": "code",
   "execution_count": 247,
   "metadata": {
    "collapsed": true
   },
   "outputs": [],
   "source": [
    "A = np.array([\\\n",
    "              [1, 0, 0, 0],\\\n",
    "              [0, 2, 0, 0],\\\n",
    "              [0, 0, 3, 0],\\\n",
    "              [0, 0, 0, 4]\\\n",
    "             ])"
   ]
  },
  {
   "cell_type": "code",
   "execution_count": 248,
   "metadata": {},
   "outputs": [],
   "source": [
    "S = np.array([[-5,4,1,0],[2,3,-2,1],[0,7,-4,-3],[1,4,0,6]])"
   ]
  },
  {
   "cell_type": "code",
   "execution_count": 249,
   "metadata": {
    "collapsed": true
   },
   "outputs": [],
   "source": [
    "S_inv = np.linalg.inv(S)"
   ]
  },
  {
   "cell_type": "code",
   "execution_count": 250,
   "metadata": {
    "collapsed": true
   },
   "outputs": [],
   "source": [
    "A = S.dot(A).dot(S_inv)"
   ]
  },
  {
   "cell_type": "markdown",
   "metadata": {},
   "source": [
    "**Исходная матрица**"
   ]
  },
  {
   "cell_type": "code",
   "execution_count": 251,
   "metadata": {},
   "outputs": [
    {
     "data": {
      "text/plain": [
       "array([[-20.   , -64.5  ,  26.5  ,  24.   ],\n",
       "       [ 22.25 ,  68.875, -27.375, -24.5  ],\n",
       "       [ 10.25 ,  31.875, -10.375, -12.5  ],\n",
       "       [ 28.75 ,  86.625, -36.125, -28.5  ]])"
      ]
     },
     "execution_count": 251,
     "metadata": {},
     "output_type": "execute_result"
    }
   ],
   "source": [
    "A"
   ]
  },
  {
   "cell_type": "markdown",
   "metadata": {},
   "source": [
    "Для зменшення кількості арифметичних операцій матрицю попередньо зводять до форми Хесенберга за допомогою перетворень Хаусхолдера"
   ]
  },
  {
   "cell_type": "code",
   "execution_count": 145,
   "metadata": {},
   "outputs": [],
   "source": [
    "def house(A, i): #матрица Хаусхолдера для обнуление элементов под второй диагональю матрицы\n",
    "    b = np.sign(-A[i+1, i])*np.linalg.norm(A[i+1:,i])\n",
    "    mu = 1/( (2*b**2-2*A[i+1,i]*b)**0.5 )\n",
    "    w = np.array(A[:,i])\n",
    "    w[i+1] = A[i+1,i] - b\n",
    "    w[:(i+1)] = 0\n",
    "    w = mu*w\n",
    "    w = np.expand_dims(w,axis=1)\n",
    "    H = np.identity(len(A)) - 2*w.dot(w.T)\n",
    "    return H"
   ]
  },
  {
   "cell_type": "code",
   "execution_count": 252,
   "metadata": {
    "collapsed": true
   },
   "outputs": [],
   "source": [
    "def hessenberg(A): #приведение матрицы к форме Хессенберга\n",
    "    result = A.copy()\n",
    "    for i in range(len(A)-2):\n",
    "        H = house(result,i)\n",
    "        result = H.dot(result).dot(H.T)\n",
    "    return result"
   ]
  },
  {
   "cell_type": "code",
   "execution_count": 244,
   "metadata": {
    "collapsed": true
   },
   "outputs": [],
   "source": [
    "def givens_rotation(H, i): #обнуление элемента второй диагонали матрицы Хессенберга\n",
    "    eps = 10**(-4)\n",
    "    T = np.identity(len(H))\n",
    "    if abs(H[i,i])<eps:\n",
    "        s = 0\n",
    "        c = 1\n",
    "    else:\n",
    "        t = H[i+1,i]/H[i,i]\n",
    "        c = 1/(1+t**2)**0.5\n",
    "        s = t/(1+t**2)**0.5\n",
    "    T[i,i]   =   c\n",
    "    T[i,i+1] =   s\n",
    "    T[i+1,i] =  -s\n",
    "    T[i+1,i+1] = c\n",
    "    return (T, T.dot(H))"
   ]
  },
  {
   "cell_type": "code",
   "execution_count": 245,
   "metadata": {},
   "outputs": [],
   "source": [
    "def QR_eigen(A):\n",
    "    eps = 10**(-4)\n",
    "    H = hessenberg(A)\n",
    "    print(\"Матриця Хесенберга: \")\n",
    "    print(H)\n",
    "    while (abs(max(np.diag(H, -1)))>eps):\n",
    "        Q = np.identity(len(A))\n",
    "        for i in range(len(H)-1):\n",
    "            Qi,H = givens_rotation(H,i)\n",
    "            Q = Qi.dot(Q)\n",
    "        Q = Q.T #A = QH\n",
    "        H = H.dot(Q)\n",
    "    return np.diag(H)\n",
    "    "
   ]
  },
  {
   "cell_type": "code",
   "execution_count": 253,
   "metadata": {},
   "outputs": [
    {
     "name": "stdout",
     "output_type": "stream",
     "text": [
      "Матриця Хесенберга: \n",
      "[[ -20.       12.5359   31.7709   65.3603]\n",
      " [ -37.7715   25.1548   55.2124  115.3172]\n",
      " [   0.       -0.6298    3.5061    0.1788]\n",
      " [   0.       -0.       -0.8471    1.3391]]\n"
     ]
    },
    {
     "data": {
      "text/plain": [
       "array([ 4.,  3.,  2.,  1.])"
      ]
     },
     "execution_count": 253,
     "metadata": {},
     "output_type": "execute_result"
    }
   ],
   "source": [
    "QR_eigen(A)"
   ]
  },
  {
   "cell_type": "markdown",
   "metadata": {},
   "source": [
    "**Висновки:** для пошуку спектру симетричних матриць використовується метод обертань Якобі. Для несиметричних - QR-алгоритм. Для прискорення обчислень за QR-алгоритмом матриця попередньо приводиться до форми Хессенберга"
   ]
  }
 ],
 "metadata": {
  "kernelspec": {
   "display_name": "Python 3",
   "language": "python",
   "name": "python3"
  },
  "language_info": {
   "codemirror_mode": {
    "name": "ipython",
    "version": 3
   },
   "file_extension": ".py",
   "mimetype": "text/x-python",
   "name": "python",
   "nbconvert_exporter": "python",
   "pygments_lexer": "ipython3",
   "version": "3.6.3"
  }
 },
 "nbformat": 4,
 "nbformat_minor": 2
}
