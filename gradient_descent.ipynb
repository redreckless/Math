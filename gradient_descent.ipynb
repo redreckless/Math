{
 "cells": [
  {
   "cell_type": "code",
   "execution_count": 1,
   "metadata": {},
   "outputs": [],
   "source": [
    "import numpy as np\n",
    "from scipy.optimize import fmin\n",
    "import matplotlib.pyplot as plt\n",
    "%matplotlib inline"
   ]
  },
  {
   "cell_type": "code",
   "execution_count": 2,
   "metadata": {},
   "outputs": [],
   "source": [
    "a = 11.0\n",
    "b = -0.4\n",
    "c = 1.0\n",
    "d = 0.21"
   ]
  },
  {
   "cell_type": "code",
   "execution_count": 3,
   "metadata": {},
   "outputs": [],
   "source": [
    "def f1(X):\n",
    "    return a*X[0] + b*X[1] + np.exp(c*X[0]**2+d*X[1]**2)    "
   ]
  },
  {
   "cell_type": "code",
   "execution_count": 4,
   "metadata": {},
   "outputs": [],
   "source": [
    "def gradf1(X):\n",
    "    return np.array([a+2*c*X[0]*np.exp(c*X[0]**2+d*X[1]**2),\n",
    "                     b+2*d*X[1]*np.exp(c*X[0]**2+d*X[1]**2)])"
   ]
  },
  {
   "cell_type": "code",
   "execution_count": 15,
   "metadata": {},
   "outputs": [],
   "source": [
    "def step_gradient(f, gradf, X0, p0=1, eps=0.1, delta=0.9, eps0 = 10**(-6) ):\n",
    "    p = p0\n",
    "    i = 1\n",
    "    x_iters = X0\n",
    "    while np.linalg.norm(gradf(X0))>eps0:\n",
    "        X1 = X0 - p*gradf(X0)\n",
    "        if f(X1)>(f(X0)-eps*p*np.linalg.norm(gradf(X0))**2):\n",
    "            p = p*delta\n",
    "            continue\n",
    "        X0 = X1\n",
    "        i+=1\n",
    "        x_iters = np.vstack((x_iters,X0))\n",
    "    return X0, f(X0), i, x_iters"
   ]
  },
  {
   "cell_type": "code",
   "execution_count": 6,
   "metadata": {},
   "outputs": [
    {
     "name": "stdout",
     "output_type": "stream",
     "text": [
      "Optimization terminated successfully.\n",
      "         Current function value: -9.032898\n",
      "         Iterations: 78\n",
      "         Function evaluations: 150\n"
     ]
    }
   ],
   "source": [
    "m1 = fmin(f1, np.array([0,0]))"
   ]
  },
  {
   "cell_type": "code",
   "execution_count": 16,
   "metadata": {},
   "outputs": [],
   "source": [
    "x_min, f_min, i, x_iters  = step_gradient(f1, gradf1, np.array([0,0]))"
   ]
  },
  {
   "cell_type": "code",
   "execution_count": 17,
   "metadata": {},
   "outputs": [
    {
     "name": "stdout",
     "output_type": "stream",
     "text": [
      "Минимум функци: [-1.2224797   0.21168429]\n",
      "Значение функции в миниумуме: -9.032898150066826\n",
      "Количество итераций: 291\n"
     ]
    }
   ],
   "source": [
    "print('Минимум функци: {0}\\nЗначение функции в миниумуме: {1}\\nКоличество итераций: {2}'.format(x_min, f_min, i))"
   ]
  },
  {
   "cell_type": "markdown",
   "metadata": {},
   "source": [
    "##### Порядок сходимости"
   ]
  },
  {
   "cell_type": "code",
   "execution_count": 18,
   "metadata": {},
   "outputs": [],
   "source": [
    "dx = np.linalg.norm((x_iters-x_min),axis=1)"
   ]
  },
  {
   "cell_type": "code",
   "execution_count": 19,
   "metadata": {},
   "outputs": [
    {
     "data": {
      "text/plain": [
       "[<matplotlib.lines.Line2D at 0x5517198>]"
      ]
     },
     "execution_count": 19,
     "metadata": {},
     "output_type": "execute_result"
    },
    {
     "data": {
      "image/png": "[encoded data removed]",
      "text/plain": [
       "<Figure size 432x288 with 1 Axes>"
      ]
     },
     "metadata": {},
     "output_type": "display_data"
    }
   ],
   "source": [
    "x = np.arange(1,i)\n",
    "plt.ylim(0,1)\n",
    "plt.plot(x, (dx[1:]/dx[:-1]))"
   ]
  },
  {
   "cell_type": "markdown",
   "metadata": {},
   "source": [
    "Порядок сходимости вначале линейный с коээфициентом чуть меньше 1,  потом резко возрастает"
   ]
  },
  {
   "cell_type": "code",
   "execution_count": 20,
   "metadata": {},
   "outputs": [],
   "source": [
    "A = np.array([[2,2],\\\n",
    "              [2,3]])"
   ]
  },
  {
   "cell_type": "code",
   "execution_count": 21,
   "metadata": {},
   "outputs": [],
   "source": [
    "def f2(X):\n",
    "    return 2*X[0]**2 + 3*X[1]**2 + 4*X[0]*X[1]"
   ]
  },
  {
   "cell_type": "code",
   "execution_count": 22,
   "metadata": {},
   "outputs": [],
   "source": [
    "def gradf2(X):\n",
    "    return np.array([4*X[0]+4*X[1], 4*X[0]+6*X[1]])"
   ]
  },
  {
   "cell_type": "code",
   "execution_count": 23,
   "metadata": {},
   "outputs": [],
   "source": [
    "def best_step(A, gradf, X):\n",
    "    return ((gradf(X).dot(gradf(X)))/((A@gradf(X)).dot(gradf(X))))/2"
   ]
  },
  {
   "cell_type": "code",
   "execution_count": 24,
   "metadata": {},
   "outputs": [],
   "source": [
    "def grad_quick_descent(f, gradf, X0, eps = 10**(-18)):\n",
    "    x_iters = X0\n",
    "    i = 1\n",
    "    while np.linalg.norm(gradf(X0))>eps:\n",
    "        p = best_step(A,gradf,X0)\n",
    "        X0 = X0-p*gradf(X0)\n",
    "        x_iters = np.vstack((x_iters, X0))\n",
    "        i+=1\n",
    "    return X0, f(X0), i, x_iters"
   ]
  },
  {
   "cell_type": "code",
   "execution_count": 25,
   "metadata": {},
   "outputs": [],
   "source": [
    "x_min, f_min, i, x_iters = grad_quick_descent(f2, gradf2, np.array([1,1]))"
   ]
  },
  {
   "cell_type": "code",
   "execution_count": 26,
   "metadata": {},
   "outputs": [
    {
     "name": "stdout",
     "output_type": "stream",
     "text": [
      "Минимум функци: [ 3.46386939e-19 -2.71085430e-19]\n",
      "Значение функции в миниумуме: 8.482794485319693e-38\n",
      "Количество итераций: 14\n"
     ]
    }
   ],
   "source": [
    "print('Минимум функци: {0}\\nЗначение функции в миниумуме: {1}\\nКоличество итераций: {2}'.format(x_min, f_min, i))"
   ]
  },
  {
   "cell_type": "code",
   "execution_count": 27,
   "metadata": {},
   "outputs": [],
   "source": [
    "dx = np.linalg.norm((x_iters-x_min),axis=1)"
   ]
  },
  {
   "cell_type": "code",
   "execution_count": 28,
   "metadata": {},
   "outputs": [
    {
     "data": {
      "text/plain": [
       "[<matplotlib.lines.Line2D at 0x55f0390>]"
      ]
     },
     "execution_count": 28,
     "metadata": {},
     "output_type": "execute_result"
    },
    {
     "data": {
      "image/png": "[encoded data removed]",
      "text/plain": [
       "<Figure size 432x288 with 1 Axes>"
      ]
     },
     "metadata": {},
     "output_type": "display_data"
    }
   ],
   "source": [
    "x = np.arange(1,i)\n",
    "plt.plot(x, (dx[1:]/dx[:-1]))"
   ]
  },
  {
   "cell_type": "markdown",
   "metadata": {},
   "source": [
    "**Порядок сходимости** - примерно линейный с коээфициентом 0.02 - 0.1"
   ]
  },
  {
   "cell_type": "markdown",
   "metadata": {},
   "source": [
    "**Вывод**: метод наискорейшего спуска сходится быстрее, но он намного сложней в реализации, потому как на каждом шаге нужно искать миниум функции по шагу **p**"
   ]
  }
 ],
 "metadata": {
  "kernelspec": {
   "display_name": "Python 3",
   "language": "python",
   "name": "python3"
  },
  "language_info": {
   "codemirror_mode": {
    "name": "ipython",
    "version": 3
   },
   "file_extension": ".py",
   "mimetype": "text/x-python",
   "name": "python",
   "nbconvert_exporter": "python",
   "pygments_lexer": "ipython3",
   "version": "3.6.5"
  }
 },
 "nbformat": 4,
 "nbformat_minor": 2
}
